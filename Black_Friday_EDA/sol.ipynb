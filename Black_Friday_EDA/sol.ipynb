{
 "cells": [
  {
   "cell_type": "code",
   "execution_count": 3,
   "metadata": {},
   "outputs": [
    {
     "name": "stdout",
     "output_type": "stream",
     "text": [
      "        User_ID Product_ID Gender    Age  Occupation City_Category  \\\n",
      "0       1000001  P00069042      F   0-17          10             A   \n",
      "1       1000001  P00248942      F   0-17          10             A   \n",
      "2       1000001  P00087842      F   0-17          10             A   \n",
      "3       1000001  P00085442      F   0-17          10             A   \n",
      "4       1000002  P00285442      M    55+          16             C   \n",
      "...         ...        ...    ...    ...         ...           ...   \n",
      "550063  1006033  P00372445      M  51-55          13             B   \n",
      "550064  1006035  P00375436      F  26-35           1             C   \n",
      "550065  1006036  P00375436      F  26-35          15             B   \n",
      "550066  1006038  P00375436      F    55+           1             C   \n",
      "550067  1006039  P00371644      F  46-50           0             B   \n",
      "\n",
      "       Stay_In_Current_City_Years  Marital_Status  Product_Category_1  \\\n",
      "0                               2               0                   3   \n",
      "1                               2               0                   1   \n",
      "2                               2               0                  12   \n",
      "3                               2               0                  12   \n",
      "4                              4+               0                   8   \n",
      "...                           ...             ...                 ...   \n",
      "550063                          1               1                  20   \n",
      "550064                          3               0                  20   \n",
      "550065                         4+               1                  20   \n",
      "550066                          2               0                  20   \n",
      "550067                         4+               1                  20   \n",
      "\n",
      "        Product_Category_2  Product_Category_3  Purchase  \n",
      "0                      NaN                 NaN      8370  \n",
      "1                      6.0                14.0     15200  \n",
      "2                      NaN                 NaN      1422  \n",
      "3                     14.0                 NaN      1057  \n",
      "4                      NaN                 NaN      7969  \n",
      "...                    ...                 ...       ...  \n",
      "550063                 NaN                 NaN       368  \n",
      "550064                 NaN                 NaN       371  \n",
      "550065                 NaN                 NaN       137  \n",
      "550066                 NaN                 NaN       365  \n",
      "550067                 NaN                 NaN       490  \n",
      "\n",
      "[550068 rows x 12 columns]\n"
     ]
    }
   ],
   "source": [
    "import pandas as pd\n",
    "import numpy as np\n",
    "import seaborn as sns\n",
    "import matplotlib.pyplot as plt\n",
    "\n",
    "# %matplotlib inline\n",
    "\n",
    "excel_file_path = \"./black_friday/train.csv\"\n",
    "df = pd.read_csv(excel_file_path, encoding=\"latin-1\")\n",
    "print(df)\n"
   ]
  }
 ],
 "metadata": {
  "kernelspec": {
   "display_name": "Python 3",
   "language": "python",
   "name": "python3"
  },
  "language_info": {
   "codemirror_mode": {
    "name": "ipython",
    "version": 3
   },
   "file_extension": ".py",
   "mimetype": "text/x-python",
   "name": "python",
   "nbconvert_exporter": "python",
   "pygments_lexer": "ipython3",
   "version": "3.11.4"
  }
 },
 "nbformat": 4,
 "nbformat_minor": 2
}
