{
 "cells": [
  {
   "cell_type": "code",
   "execution_count": 1,
   "metadata": {},
   "outputs": [
    {
     "data": {
      "text/html": [
       "<div>\n",
       "<style scoped>\n",
       "    .dataframe tbody tr th:only-of-type {\n",
       "        vertical-align: middle;\n",
       "    }\n",
       "\n",
       "    .dataframe tbody tr th {\n",
       "        vertical-align: top;\n",
       "    }\n",
       "\n",
       "    .dataframe thead th {\n",
       "        text-align: right;\n",
       "    }\n",
       "</style>\n",
       "<table border=\"1\" class=\"dataframe\">\n",
       "  <thead>\n",
       "    <tr style=\"text-align: right;\">\n",
       "      <th></th>\n",
       "      <th>enrollee_id</th>\n",
       "      <th>city</th>\n",
       "      <th>city_development_index</th>\n",
       "      <th>gender</th>\n",
       "      <th>relevent_experience</th>\n",
       "      <th>enrolled_university</th>\n",
       "      <th>education_level</th>\n",
       "      <th>major_discipline</th>\n",
       "      <th>experience</th>\n",
       "      <th>company_size</th>\n",
       "      <th>company_type</th>\n",
       "      <th>training_hours</th>\n",
       "      <th>target</th>\n",
       "    </tr>\n",
       "  </thead>\n",
       "  <tbody>\n",
       "    <tr>\n",
       "      <th>0</th>\n",
       "      <td>8949</td>\n",
       "      <td>city_103</td>\n",
       "      <td>0.920</td>\n",
       "      <td>Male</td>\n",
       "      <td>Has relevent experience</td>\n",
       "      <td>no_enrollment</td>\n",
       "      <td>Graduate</td>\n",
       "      <td>STEM</td>\n",
       "      <td>20.0</td>\n",
       "      <td>NaN</td>\n",
       "      <td>NaN</td>\n",
       "      <td>36.0</td>\n",
       "      <td>1.0</td>\n",
       "    </tr>\n",
       "    <tr>\n",
       "      <th>1</th>\n",
       "      <td>29725</td>\n",
       "      <td>city_40</td>\n",
       "      <td>0.776</td>\n",
       "      <td>Male</td>\n",
       "      <td>No relevent experience</td>\n",
       "      <td>no_enrollment</td>\n",
       "      <td>Graduate</td>\n",
       "      <td>STEM</td>\n",
       "      <td>15.0</td>\n",
       "      <td>50-99</td>\n",
       "      <td>Pvt Ltd</td>\n",
       "      <td>47.0</td>\n",
       "      <td>0.0</td>\n",
       "    </tr>\n",
       "    <tr>\n",
       "      <th>2</th>\n",
       "      <td>11561</td>\n",
       "      <td>city_21</td>\n",
       "      <td>0.624</td>\n",
       "      <td>NaN</td>\n",
       "      <td>No relevent experience</td>\n",
       "      <td>Full time course</td>\n",
       "      <td>Graduate</td>\n",
       "      <td>STEM</td>\n",
       "      <td>5.0</td>\n",
       "      <td>NaN</td>\n",
       "      <td>NaN</td>\n",
       "      <td>83.0</td>\n",
       "      <td>0.0</td>\n",
       "    </tr>\n",
       "    <tr>\n",
       "      <th>3</th>\n",
       "      <td>33241</td>\n",
       "      <td>city_115</td>\n",
       "      <td>0.789</td>\n",
       "      <td>NaN</td>\n",
       "      <td>No relevent experience</td>\n",
       "      <td>NaN</td>\n",
       "      <td>Graduate</td>\n",
       "      <td>Business Degree</td>\n",
       "      <td>0.0</td>\n",
       "      <td>NaN</td>\n",
       "      <td>Pvt Ltd</td>\n",
       "      <td>52.0</td>\n",
       "      <td>1.0</td>\n",
       "    </tr>\n",
       "    <tr>\n",
       "      <th>4</th>\n",
       "      <td>666</td>\n",
       "      <td>city_162</td>\n",
       "      <td>0.767</td>\n",
       "      <td>Male</td>\n",
       "      <td>Has relevent experience</td>\n",
       "      <td>no_enrollment</td>\n",
       "      <td>Masters</td>\n",
       "      <td>STEM</td>\n",
       "      <td>20.0</td>\n",
       "      <td>50-99</td>\n",
       "      <td>Funded Startup</td>\n",
       "      <td>8.0</td>\n",
       "      <td>0.0</td>\n",
       "    </tr>\n",
       "  </tbody>\n",
       "</table>\n",
       "</div>"
      ],
      "text/plain": [
       "   enrollee_id      city  city_development_index gender  \\\n",
       "0         8949  city_103                   0.920   Male   \n",
       "1        29725   city_40                   0.776   Male   \n",
       "2        11561   city_21                   0.624    NaN   \n",
       "3        33241  city_115                   0.789    NaN   \n",
       "4          666  city_162                   0.767   Male   \n",
       "\n",
       "       relevent_experience enrolled_university education_level  \\\n",
       "0  Has relevent experience       no_enrollment        Graduate   \n",
       "1   No relevent experience       no_enrollment        Graduate   \n",
       "2   No relevent experience    Full time course        Graduate   \n",
       "3   No relevent experience                 NaN        Graduate   \n",
       "4  Has relevent experience       no_enrollment         Masters   \n",
       "\n",
       "  major_discipline  experience company_size    company_type  training_hours  \\\n",
       "0             STEM        20.0          NaN             NaN            36.0   \n",
       "1             STEM        15.0        50-99         Pvt Ltd            47.0   \n",
       "2             STEM         5.0          NaN             NaN            83.0   \n",
       "3  Business Degree         0.0          NaN         Pvt Ltd            52.0   \n",
       "4             STEM        20.0        50-99  Funded Startup             8.0   \n",
       "\n",
       "   target  \n",
       "0     1.0  \n",
       "1     0.0  \n",
       "2     0.0  \n",
       "3     1.0  \n",
       "4     0.0  "
      ]
     },
     "execution_count": 1,
     "metadata": {},
     "output_type": "execute_result"
    }
   ],
   "source": [
    "# complete case analysis\n",
    "import pandas as pd\n",
    "import numpy as np\n",
    "import seaborn as sns\n",
    "import matplotlib.pyplot as plt\n",
    "\n",
    "# missing completely at random\n",
    "%matplotlib inline\n",
    "\n",
    "excel_file_path = \"./data_science_job.csv\"\n",
    "df = pd.read_csv(excel_file_path, encoding=\"latin-1\")\n",
    "df.head(5)"
   ]
  },
  {
   "cell_type": "code",
   "execution_count": 2,
   "metadata": {},
   "outputs": [
    {
     "data": {
      "text/plain": [
       "enrollee_id                  0\n",
       "city                         0\n",
       "city_development_index     479\n",
       "gender                    4508\n",
       "relevent_experience          0\n",
       "enrolled_university        386\n",
       "education_level            460\n",
       "major_discipline          2813\n",
       "experience                  65\n",
       "company_size              5938\n",
       "company_type              6140\n",
       "training_hours             766\n",
       "target                       0\n",
       "dtype: int64"
      ]
     },
     "execution_count": 2,
     "metadata": {},
     "output_type": "execute_result"
    }
   ],
   "source": [
    "df.isnull().sum()"
   ]
  },
  {
   "cell_type": "code",
   "execution_count": 3,
   "metadata": {},
   "outputs": [
    {
     "data": {
      "text/plain": [
       "4508"
      ]
     },
     "execution_count": 3,
     "metadata": {},
     "output_type": "execute_result"
    }
   ],
   "source": [
    "df.gender.isnull().sum()"
   ]
  },
  {
   "cell_type": "code",
   "execution_count": 4,
   "metadata": {},
   "outputs": [
    {
     "data": {
      "text/plain": [
       "enrollee_id                0.000000\n",
       "city                       0.000000\n",
       "city_development_index     2.500261\n",
       "gender                    23.530640\n",
       "relevent_experience        0.000000\n",
       "enrolled_university        2.014824\n",
       "education_level            2.401086\n",
       "major_discipline          14.683161\n",
       "experience                 0.339284\n",
       "company_size              30.994885\n",
       "company_type              32.049274\n",
       "training_hours             3.998330\n",
       "target                     0.000000\n",
       "dtype: float64"
      ]
     },
     "execution_count": 4,
     "metadata": {},
     "output_type": "execute_result"
    }
   ],
   "source": [
    "df.isnull().mean() * 100"
   ]
  },
  {
   "cell_type": "code",
   "execution_count": 5,
   "metadata": {},
   "outputs": [
    {
     "name": "stdout",
     "output_type": "stream",
     "text": [
      "['city_development_index', 'enrolled_university', 'education_level', 'experience', 'training_hours']\n"
     ]
    }
   ],
   "source": [
    "# separating columns with less than 5% of missing values\n",
    "cols_with_missing_less_than_5_per = [\n",
    "    var\n",
    "    for var in df.columns\n",
    "    if df[var].isnull().mean() < 0.05 and df[var].isnull().mean() > 0\n",
    "]\n",
    "print(cols_with_missing_less_than_5_per)"
   ]
  },
  {
   "cell_type": "code",
   "execution_count": 6,
   "metadata": {},
   "outputs": [
    {
     "data": {
      "text/html": [
       "<div>\n",
       "<style scoped>\n",
       "    .dataframe tbody tr th:only-of-type {\n",
       "        vertical-align: middle;\n",
       "    }\n",
       "\n",
       "    .dataframe tbody tr th {\n",
       "        vertical-align: top;\n",
       "    }\n",
       "\n",
       "    .dataframe thead th {\n",
       "        text-align: right;\n",
       "    }\n",
       "</style>\n",
       "<table border=\"1\" class=\"dataframe\">\n",
       "  <thead>\n",
       "    <tr style=\"text-align: right;\">\n",
       "      <th></th>\n",
       "      <th>city_development_index</th>\n",
       "      <th>enrolled_university</th>\n",
       "      <th>education_level</th>\n",
       "      <th>experience</th>\n",
       "      <th>training_hours</th>\n",
       "    </tr>\n",
       "  </thead>\n",
       "  <tbody>\n",
       "    <tr>\n",
       "      <th>8089</th>\n",
       "      <td>0.920</td>\n",
       "      <td>no_enrollment</td>\n",
       "      <td>Primary School</td>\n",
       "      <td>4.0</td>\n",
       "      <td>6.0</td>\n",
       "    </tr>\n",
       "    <tr>\n",
       "      <th>3679</th>\n",
       "      <td>0.887</td>\n",
       "      <td>no_enrollment</td>\n",
       "      <td>Graduate</td>\n",
       "      <td>14.0</td>\n",
       "      <td>64.0</td>\n",
       "    </tr>\n",
       "    <tr>\n",
       "      <th>13226</th>\n",
       "      <td>0.624</td>\n",
       "      <td>Full time course</td>\n",
       "      <td>Graduate</td>\n",
       "      <td>5.0</td>\n",
       "      <td>9.0</td>\n",
       "    </tr>\n",
       "    <tr>\n",
       "      <th>15925</th>\n",
       "      <td>0.920</td>\n",
       "      <td>no_enrollment</td>\n",
       "      <td>Masters</td>\n",
       "      <td>15.0</td>\n",
       "      <td>18.0</td>\n",
       "    </tr>\n",
       "    <tr>\n",
       "      <th>3619</th>\n",
       "      <td>0.624</td>\n",
       "      <td>Full time course</td>\n",
       "      <td>Masters</td>\n",
       "      <td>13.0</td>\n",
       "      <td>166.0</td>\n",
       "    </tr>\n",
       "  </tbody>\n",
       "</table>\n",
       "</div>"
      ],
      "text/plain": [
       "       city_development_index enrolled_university education_level  experience  \\\n",
       "8089                    0.920       no_enrollment  Primary School         4.0   \n",
       "3679                    0.887       no_enrollment        Graduate        14.0   \n",
       "13226                   0.624    Full time course        Graduate         5.0   \n",
       "15925                   0.920       no_enrollment         Masters        15.0   \n",
       "3619                    0.624    Full time course         Masters        13.0   \n",
       "\n",
       "       training_hours  \n",
       "8089              6.0  \n",
       "3679             64.0  \n",
       "13226             9.0  \n",
       "15925            18.0  \n",
       "3619            166.0  "
      ]
     },
     "execution_count": 6,
     "metadata": {},
     "output_type": "execute_result"
    }
   ],
   "source": [
    "df[cols_with_missing_less_than_5_per].sample(5)"
   ]
  },
  {
   "cell_type": "code",
   "execution_count": 7,
   "metadata": {},
   "outputs": [
    {
     "name": "stdout",
     "output_type": "stream",
     "text": [
      "19158 19158\n",
      "0.8968577095730244\n",
      "(17182, 5) (19158, 13)\n"
     ]
    }
   ],
   "source": [
    "print(len(df[cols_with_missing_less_than_5_per]), len(df))\n",
    "# dropping NA values from columns with less than 5% of missing values\n",
    "new_df = df[cols_with_missing_less_than_5_per].dropna()\n",
    "# ration of no. of rows bw after dropping and before dropping\n",
    "print(len(new_df) / len(df))\n",
    "# shape: rows X columns after dropping and before dropping\n",
    "print(new_df.shape, df.shape)"
   ]
  },
  {
   "cell_type": "code",
   "execution_count": 10,
   "metadata": {},
   "outputs": [
    {
     "data": {
      "text/plain": [
       "city_development_index\n",
       "0.920    4772\n",
       "0.624    2367\n",
       "0.910    1398\n",
       "0.926    1189\n",
       "0.698     568\n",
       "Name: count, dtype: int64"
      ]
     },
     "execution_count": 10,
     "metadata": {},
     "output_type": "execute_result"
    }
   ],
   "source": [
    "new_df[\"city_development_index\"].value_counts().head(5)"
   ]
  },
  {
   "cell_type": "code",
   "execution_count": 11,
   "metadata": {},
   "outputs": [
    {
     "name": "stdout",
     "output_type": "stream",
     "text": [
      "ratio of city_development_index before dropping na\n",
      " city_development_index\n",
      "0.920    0.265059\n",
      "0.624    0.136705\n",
      "0.910    0.078401\n",
      "0.926    0.067700\n",
      "0.698    0.034659\n",
      "           ...   \n",
      "0.649    0.000209\n",
      "0.807    0.000209\n",
      "0.781    0.000157\n",
      "0.625    0.000157\n",
      "0.664    0.000052\n",
      "Name: count, Length: 93, dtype: float64\n",
      "ratio of city_development_index after dropping na\n",
      " city_development_index\n",
      "0.920    0.277733\n",
      "0.624    0.137760\n",
      "0.910    0.081364\n",
      "0.926    0.069200\n",
      "0.698    0.033058\n",
      "           ...   \n",
      "0.693    0.000175\n",
      "0.649    0.000175\n",
      "0.781    0.000175\n",
      "0.625    0.000116\n",
      "0.664    0.000058\n",
      "Name: count, Length: 93, dtype: float64\n"
     ]
    },
    {
     "data": {
      "image/png": "[encoded data removed]",
      "text/plain": [
       "<Figure size 640x480 with 1 Axes>"
      ]
     },
     "metadata": {},
     "output_type": "display_data"
    },
    {
     "name": "stdout",
     "output_type": "stream",
     "text": [
      "ratio of enrolled_university before dropping na\n",
      " enrolled_university\n",
      "no_enrollment       0.721213\n",
      "Full time course    0.196106\n",
      "Part time course    0.062533\n",
      "Name: count, dtype: float64\n",
      "ratio of enrolled_university after dropping na\n",
      " enrolled_university\n",
      "no_enrollment       0.735188\n",
      "Full time course    0.200733\n",
      "Part time course    0.064079\n",
      "Name: count, dtype: float64\n"
     ]
    },
    {
     "data": {
      "image/png": "[encoded data removed]",
      "text/plain": [
       "<Figure size 640x480 with 1 Axes>"
      ]
     },
     "metadata": {},
     "output_type": "display_data"
    },
    {
     "name": "stdout",
     "output_type": "stream",
     "text": [
      "ratio of education_level before dropping na\n",
      " education_level\n",
      "Graduate          0.605387\n",
      "Masters           0.227633\n",
      "High School       0.105282\n",
      "Phd               0.021610\n",
      "Primary School    0.016077\n",
      "Name: count, dtype: float64\n",
      "ratio of education_level after dropping na\n",
      " education_level\n",
      "Graduate          0.619835\n",
      "Masters           0.234082\n",
      "High School       0.107380\n",
      "Phd               0.022116\n",
      "Primary School    0.016587\n",
      "Name: count, dtype: float64\n"
     ]
    },
    {
     "data": {
      "image/png": "[encoded data removed]",
      "text/plain": [
       "<Figure size 640x480 with 1 Axes>"
      ]
     },
     "metadata": {},
     "output_type": "display_data"
    },
    {
     "name": "stdout",
     "output_type": "stream",
     "text": [
      "ratio of experience before dropping na\n",
      " experience\n",
      "20.0    0.179246\n",
      "5.0     0.074642\n",
      "4.0     0.073233\n",
      "3.0     0.070675\n",
      "6.0     0.063472\n",
      "2.0     0.058827\n",
      "7.0     0.053659\n",
      "10.0    0.051415\n",
      "9.0     0.051154\n",
      "8.0     0.041862\n",
      "15.0    0.035807\n",
      "11.0    0.034659\n",
      "14.0    0.030588\n",
      "1.0     0.028656\n",
      "0.0     0.027247\n",
      "16.0    0.026516\n",
      "12.0    0.025786\n",
      "13.0    0.020827\n",
      "17.0    0.017852\n",
      "19.0    0.015868\n",
      "18.0    0.014615\n",
      "Name: count, dtype: float64\n",
      "ratio of experience after dropping na\n",
      " experience\n",
      "20.0    0.183331\n",
      "5.0     0.074613\n",
      "4.0     0.073042\n",
      "3.0     0.068793\n",
      "6.0     0.063555\n",
      "2.0     0.057036\n",
      "7.0     0.053952\n",
      "10.0    0.051740\n",
      "9.0     0.051158\n",
      "8.0     0.041963\n",
      "15.0    0.036492\n",
      "11.0    0.036084\n",
      "14.0    0.030555\n",
      "1.0     0.027703\n",
      "16.0    0.027121\n",
      "12.0    0.026539\n",
      "0.0     0.025434\n",
      "13.0    0.021418\n",
      "17.0    0.018100\n",
      "19.0    0.016180\n",
      "18.0    0.015190\n",
      "Name: count, dtype: float64\n"
     ]
    },
    {
     "data": {
      "image/png": "[encoded data removed]",
      "text/plain": [
       "<Figure size 640x480 with 1 Axes>"
      ]
     },
     "metadata": {},
     "output_type": "display_data"
    },
    {
     "name": "stdout",
     "output_type": "stream",
     "text": [
      "ratio of training_hours before dropping na\n",
      " training_hours\n",
      "28.0     0.016703\n",
      "18.0     0.014563\n",
      "12.0     0.014563\n",
      "22.0     0.014250\n",
      "50.0     0.014041\n",
      "           ...   \n",
      "272.0    0.000261\n",
      "240.0    0.000261\n",
      "234.0    0.000261\n",
      "238.0    0.000209\n",
      "286.0    0.000209\n",
      "Name: count, Length: 241, dtype: float64\n",
      "ratio of training_hours after dropping na\n",
      " training_hours\n",
      "28.0     0.017809\n",
      "18.0     0.015074\n",
      "22.0     0.015074\n",
      "12.0     0.014958\n",
      "50.0     0.014841\n",
      "           ...   \n",
      "238.0    0.000233\n",
      "234.0    0.000233\n",
      "272.0    0.000233\n",
      "228.0    0.000233\n",
      "286.0    0.000233\n",
      "Name: count, Length: 241, dtype: float64\n"
     ]
    },
    {
     "data": {
      "image/png": "[encoded data removed]",
      "text/plain": [
       "<Figure size 640x480 with 1 Axes>"
      ]
     },
     "metadata": {},
     "output_type": "display_data"
    }
   ],
   "source": [
    "# checking density & ratio differences in histogram of new and previous df to see the impact of dropping Na\n",
    "for col in cols_with_missing_less_than_5_per:\n",
    "    print(f\"ratio of {col} before dropping na\\n\", df[col].value_counts() / len(df))\n",
    "    print(\n",
    "        f\"ratio of {col} after dropping na\\n\", new_df[col].value_counts() / len(new_df)\n",
    "    )\n",
    "    fig = plt.figure()\n",
    "    ax = fig.add_subplot(111)\n",
    "    df[col].hist(bins=50, ax=ax, density=True, color=\"red\")\n",
    "    new_df[col].hist(bins=50, ax=ax, density=True, color=\"green\", alpha=0.8)\n",
    "    plt.title(col)\n",
    "    plt.show()"
   ]
  },
  {
   "cell_type": "code",
   "execution_count": null,
   "metadata": {},
   "outputs": [],
   "source": []
  }
 ],
 "metadata": {
  "kernelspec": {
   "display_name": "Python 3",
   "language": "python",
   "name": "python3"
  },
  "language_info": {
   "codemirror_mode": {
    "name": "ipython",
    "version": 3
   },
   "file_extension": ".py",
   "mimetype": "text/x-python",
   "name": "python",
   "nbconvert_exporter": "python",
   "pygments_lexer": "ipython3",
   "version": "3.11.4"
  }
 },
 "nbformat": 4,
 "nbformat_minor": 2
}
